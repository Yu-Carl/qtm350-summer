{
 "cells": [
  {
   "cell_type": "markdown",
   "metadata": {},
   "source": [
    "# QTM 350 - Data Science Computing\n",
    "## Practice: A Multi-Agent Data Analysis Workflow with Ollama\n",
    "**Author:** Danilo Freire (danilo.freire@emory.edu, Emory University)"
   ]
  },
  {
   "cell_type": "markdown",
   "metadata": {},
   "source": [
    "## Hands-on Practice: The Goal\n",
    "\n",
    "- **Objective:**\n",
    "- In this practical session, you will simulate a real-world data science workflow by creating and orchestrating two distinct, specialised AI agents.\n",
    "\n",
    "- **Process:**\n",
    "- You will build a \"Data Strategist\" to create an analysis plan, and then a \"Python Coder\" to write the code for that plan, acting as the project manager between them.\n",
    "\n",
    "- **Environment:**\n",
    "- This entire workflow will run locally on your machine using Ollama.\n",
    "\n",
    "- **Estimated Time:**\n",
    "- 50-60 minutes."
   ]
  },
  {
   "cell_type": "markdown",
   "metadata": {},
   "source": [
    "## Part 1: Building the \"Data Strategist\" Agent\n",
    "\n",
    "Your first task is to create a high-level AI agent that plans a data analysis project."
   ]
  },
  {
   "cell_type": "markdown",
   "metadata": {},
   "source": [
    "- **Create a Project Directory:**\n",
    "- Open your terminal, create a new directory, and navigate into it."
   ]
  },
  {
   "cell_type": "code",
   "execution_count": null,
   "metadata": {},
   "outputs": [],
   "source": [
    "!mkdir multi_agent_practice\n",
    "!cd multi_agent_practice"
   ]
  },
  {
   "cell_type": "markdown",
   "metadata": {},
   "source": [
    "- **Choose a Base Model:**\n",
    "- We'll use `gemma3:1b` for our planning agent. It's a capable and very lightweight model.\n",
    "- Use `ollama pull` to download the model."
   ]
  },
  {
   "cell_type": "code",
   "execution_count": null,
   "metadata": {},
   "outputs": [],
   "source": []
  },
  {
   "cell_type": "markdown",
   "metadata": {},
   "source": [
    "- **Create the `Modelfile` for the Strategist:**\n",
    "- Inside your directory, create `Modelfile.strategist`. Add the following content, which defines our agent's persona."
   ]
  },
  {
   "cell_type": "code",
   "execution_count": null,
   "metadata": {
    "language_info": {
     "name": "yaml"
    }
   },
   "outputs": [],
   "source": [
    "%%writefile multi_agent_practice/Modelfile.strategist\n",
    "# Use gemma3:1b as the base model\n",
    "FROM gemma3:1b\n",
    "\n",
    "# Set a higher temperature for more creative planning\n",
    "PARAMETER temperature 0.8\n",
    "\n",
    "# Define the system prompt for the Data Strategist\n",
    "SYSTEM \"\"\"\n",
    "You are a Senior Data Strategist. Your expertise is in\n",
    "designing clear, concise, and actionable data analysis\n",
    "plans. You are brilliant at strategy but you DO NOT\n",
    "write code.\n",
    "\n",
    "When given a description of a dataset, you must provide a\n",
    "step-by-step analysis plan in Markdown format. The plan must\n",
    "include the following sections:\n",
    "1.  **Project Goal:** A single sentence defining the\n",
    "    primary objective.\n",
    "2.  **Key Research Question:** One specific, answerable\n",
    "    question.\n",
    "3.  **Data Loading & Cleaning:** A short bulleted list of\n",
    "    initial steps.\n",
    "4.  **Exploratory Data Analysis (EDA):** A bulleted list of\n",
    "    at least three specific visualisations to create.\n",
    "\"\"\""
   ]
  },
  {
   "cell_type": "markdown",
   "metadata": {},
   "source": [
    "- **Create the Strategist Agent:**\n",
    "- In your terminal, create the `strategist` model.\n",
    "- Use the command `ollama create` with the `-f` flag to specify the `Modelfile.strategist`."
   ]
  },
  {
   "cell_type": "code",
   "execution_count": null,
   "metadata": {},
   "outputs": [],
   "source": []
  },
  {
   "cell_type": "markdown",
   "metadata": {},
   "source": [
    "- **Run the Agent:**\n",
    "- Now, run the agent and give it the prompt for your project plan.\n",
    "- Use `ollama run strategist` to start the agent.\n",
    "- **Important:** The agent will output a plan. **Manually copy this entire plan**, create a new file named `project_plan.md`, and paste the content into it. Save the file and then type `/bye` to exit the agent."
   ]
  },
  {
   "cell_type": "code",
   "execution_count": null,
   "metadata": {},
   "outputs": [],
   "source": [
    "# This command will start an interactive session in your terminal.\n",
    "# You cannot run this directly in the notebook.\n",
    "# Open a separate terminal, run the command, and provide the prompt.\n",
    "\n",
    "# In your terminal: ollama run strategist\n",
    "# Then, type the prompt:\n",
    "# I have a fictitious dataset named 'store_sales.csv' with the columns: 'date', 'product_category', 'units_sold', and 'revenue'."
   ]
  },
  {
   "cell_type": "markdown",
   "metadata": {},
   "source": [
    "## Part 2: Building the \"Python Coder\" Agent\n",
    "Now you'll build the second agent. Its only job is to write Python code."
   ]
  },
  {
   "cell_type": "markdown",
   "metadata": {},
   "source": [
    "- **Choose a Coder Base Model:**\n",
    "- We'll use `qwen2.5-coder:1.5b`, a lightweight but capable model specialised for coding.\n",
    "- Again, use `ollama pull` to download the model."
   ]
  },
  {
   "cell_type": "code",
   "execution_count": null,
   "metadata": {},
   "outputs": [],
   "source": []
  },
  {
   "cell_type": "markdown",
   "metadata": {},
   "source": [
    "- **Create the `Modelfile` for the Coder:**\n",
    "- In the same directory, create `Modelfile.coder` and add the following:"
   ]
  },
  {
   "cell_type": "code",
   "execution_count": null,
   "metadata": {
    "language_info": {
     "name": "yaml"
    }
   },
   "outputs": [],
   "source": [
    "%%writefile multi_agent_practice/Modelfile.coder\n",
    "# Use qwen2.5-coder:1.5b as the base model\n",
    "FROM qwen2.5-coder:1.5b\n",
    "\n",
    "# Use a low temperature for deterministic code\n",
    "PARAMETER temperature 0.2\n",
    "\n",
    "# Define the system prompt for the Python Coder\n",
    "SYSTEM \"\"\"\n",
    "You are a junior Python developer. Your job is to write\n",
    "clean, executable Python code based on a specific\n",
    "instruction from a project plan.\n",
    "- You MUST use the pandas, matplotlib, and seaborn\n",
    "  libraries.\n",
    "- You write ONLY Python code. Do not include any\n",
    "  explanations or text outside of the code itself.\n",
    "- Wrap the entire output in a single Markdown code\n",
    "  block (```python).\n",
    "- Assume the data is already loaded into a pandas\n",
    "  DataFrame named 'df'.\n",
    "\"\"\""
   ]
  },
  {
   "cell_type": "markdown",
   "metadata": {},
   "source": [
    "- **Create the Coder Agent:**\n",
    "- In your terminal, create the `python_coder` model from its `Modelfile`.\n",
    "- Use `ollama create` with the `-f` flag to specify the `Modelfile.coder`, just like you did for the strategist."
   ]
  },
  {
   "cell_type": "code",
   "execution_count": null,
   "metadata": {},
   "outputs": [],
   "source": []
  },
  {
   "cell_type": "markdown",
   "metadata": {},
   "source": [
    "*(Self-check: Run `!ollama list` to confirm both `strategist` and `python_coder` are available.)*"
   ]
  },
  {
   "cell_type": "code",
   "execution_count": null,
   "metadata": {},
   "outputs": [],
   "source": [
    "!ollama list"
   ]
  },
  {
   "cell_type": "markdown",
   "metadata": {},
   "source": [
    "## Part 3: Integrating the Agents\n",
    "This is the integration step. You will act as the project manager, taking the plan from the `strategist` and giving a specific task to the `python_coder`."
   ]
  },
  {
   "cell_type": "markdown",
   "metadata": {},
   "source": [
    "- **Assign a Task to the Coder:**\n",
    "- Open your `project_plan.md` file and look at the \"Exploratory Data Analysis (EDA)\" section. Choose one of the visualisation tasks (e.g., \"Generate a bar chart of revenue by product category\") and copy the text.\n",
    "- **Run the Coder Agent:**\n",
    "- In your terminal, run your `python_coder` agent.\n",
    "- **Manually paste** the single EDA task you copied as a prompt for the `python_coder` and press Enter."
   ]
  },
  {
   "cell_type": "markdown",
   "metadata": {},
   "source": [
    "## Part 3: Finalise the Project\n",
    "\n",
    "- **Finalise the Script:**\n",
    "- The agent will output the Python code required. **Copy the Python code** generated by `python_coder`.\n",
    "- Create a new file in your project directory named `analysis.py` and paste the code into this file.\n",
    "- Ensure that the code is commented and ready for execution.\n",
    "- Save the commented `analysis.py` file.\n",
    "- **Bonus:** If you want to test your code with actual data, you can download a sample dataset from: [https://github.com/danilofreire/qtm350-summer/blob/main/lectures/lecture-17/store_sales.csv](https://github.com/danilofreire/qtm350-summer/blob/main/lectures/lecture-17/store_sales.csv)"
   ]
  },
  {
   "cell_type": "markdown",
   "metadata": {},
   "source": [
    "## Bonus: Vibe coding with GitHub Copilot/Roo Code\n",
    "- If you have time, paste the Quarto file of this lecture into GitHub Copilot or Roo Code to see if they could do all the steps above for you!"
   ]
  },
  {
   "cell_type": "markdown",
   "metadata": {},
   "source": [
    "## End of Practice Session\n",
    "- Congratulations! 🥳\n",
    "- You can now delete the models you created to free up space:\n",
    "- Type `!ollama ls` to see the list of models, then use `!ollama rm <model_name>` to remove them, e.g., `ollama rm strategist` and `ollama rm python_coder`."
   ]
  },
  {
   "cell_type": "code",
   "execution_count": null,
   "metadata": {},
   "outputs": [],
   "source": []
  },
  {
   "cell_type": "markdown",
   "metadata": {},
   "source": [
    "# And that's all for today! 🎉"
   ]
  }
 ],
 "metadata": {
  "kernelspec": {
   "display_name": "Python 3",
   "language": "python",
   "name": "python3"
  },
  "language_info": {
   "codemirror_mode": {
    "name": "ipython",
    "version": 3
   },
   "file_extension": ".py",
   "mimetype": "text/x-python",
   "name": "python",
   "nbconvert_exporter": "python",
   "pygments_lexer": "ipython3",
   "version": "3.9.7"
  }
 },
 "nbformat": 4,
 "nbformat_minor": 4
}
