{
 "cells": [
  {
   "cell_type": "markdown",
   "id": "ec245430",
   "metadata": {},
   "source": [
    "# QTM 350 - SQL Practice Session\n",
    "## Analysing Classic Video Games & Studios\n",
    "**Author:** Danilo Freire (danilo.freire@emory.edu, Emory University)"
   ]
  },
  {
   "cell_type": "markdown",
   "metadata": {},
   "source": [
    "### Objective\n",
    "In this session, you will practice your SQL skills by creating and querying a database of classic video games and their development studios. You will use `SELECT` statements, aggregate functions, joins, and other SQL features to answer a series of questions.\n",
    "\n",
    "### Instructions\n",
    "1. Run the **Setup** cells to create and populate your database for this session.\n",
    "2. For each question, write a single SQL query in the designated code cell to find the answer.\n",
    "3. Use `pd.read_sql()` to execute your query and display the results as a pandas DataFrame."
   ]
  },
  {
   "cell_type": "markdown",
   "metadata": {},
   "source": [
    "## Part 1: Database and Table Setup"
   ]
  },
  {
   "cell_type": "code",
   "execution_count": 1,
   "metadata": {},
   "outputs": [
    {
     "name": "stdout",
     "output_type": "stream",
     "text": [
      "Database connection established.\n"
     ]
    }
   ],
   "source": [
    "import sqlite3\n",
    "import pandas as pd\n",
    "from IPython.display import display\n",
    "\n",
    "# Connect to an in-memory SQLite database\n",
    "conn = sqlite3.connect(':memory:')\n",
    "cursor = conn.cursor()\n",
    "\n",
    "print(\"Database connection established.\")"
   ]
  },
  {
   "cell_type": "markdown",
   "metadata": {},
   "source": [
    "### Table Schemas\n",
    "\n",
    "We will work with two tables: `studios` and `games`.\n",
    "\n",
    "**`studios` table:**\n",
    "| Column         | Type    | Description                               |\n",
    "|----------------|---------|-------------------------------------------|\n",
    "| `studio_id`    | INTEGER | Primary Key for the studio.               |\n",
    "| `studio_name`  | TEXT    | The name of the game development studio.  |\n",
    "| `country`      | TEXT    | The country where the studio is based.    |\n",
    "| `year_founded` | INTEGER | The year the studio was founded.          |\n",
    "\n",
    "**`games` table:**\n",
    "| Column               | Type    | Description                                      |\n",
    "|----------------------|---------|--------------------------------------------------|\n",
    "| `game_id`            | INTEGER | Primary Key for the game.                        |\n",
    "| `title`              | TEXT    | The title of the video game.                     |\n",
    "| `studio_id`          | INTEGER | Foreign Key referencing `studios(studio_id)`.      |\n",
    "| `genre`              | TEXT    | The genre of the game (e.g., RPG, Platformer).   |\n",
    "| `release_year`       | INTEGER | The year the game was released.                  |\n",
    "| `units_sold_millions`| REAL    | Units sold, in millions.                         |"
   ]
  },
  {
   "cell_type": "code",
   "execution_count": 2,
   "metadata": {},
   "outputs": [
    {
     "name": "stdout",
     "output_type": "stream",
     "text": [
      "Tables 'studios' and 'games' created successfully.\n"
     ]
    }
   ],
   "source": [
    "# Drop tables if they already exist to ensure a clean slate\n",
    "cursor.execute(\"DROP TABLE IF EXISTS games;\")\n",
    "cursor.execute(\"DROP TABLE IF EXISTS studios;\")\n",
    "\n",
    "# Create studios table\n",
    "cursor.execute(\"\"\"\n",
    "CREATE TABLE studios (\n",
    "    studio_id INTEGER PRIMARY KEY,\n",
    "    studio_name TEXT NOT NULL,\n",
    "    country TEXT,\n",
    "    year_founded INTEGER\n",
    ");\n",
    "\"\"\")\n",
    "\n",
    "# Create games table\n",
    "cursor.execute(\"\"\"\n",
    "CREATE TABLE games (\n",
    "    game_id INTEGER PRIMARY KEY,\n",
    "    title TEXT NOT NULL,\n",
    "    studio_id INTEGER,\n",
    "    genre TEXT,\n",
    "    release_year INTEGER,\n",
    "    units_sold_millions REAL,\n",
    "    FOREIGN KEY (studio_id) REFERENCES studios(studio_id)\n",
    ");\n",
    "\"\"\")\n",
    "\n",
    "print(\"Tables 'studios' and 'games' created successfully.\")"
   ]
  },
  {
   "cell_type": "code",
   "execution_count": 3,
   "metadata": {},
   "outputs": [
    {
     "name": "stdout",
     "output_type": "stream",
     "text": [
      "Data inserted successfully.\n"
     ]
    }
   ],
   "source": [
    "# Insert data into studios table\n",
    "studios_data = [\n",
    "    (1, 'Nintendo', 'Japan', 1889),\n",
    "    (2, 'Blizzard Entertainment', 'USA', 1991),\n",
    "    (3, 'Square Enix', 'Japan', 2003),\n",
    "    (4, 'CD Projekt Red', 'Poland', 1994),\n",
    "    (5, 'Rockstar Games', 'USA', 1998),\n",
    "    (6, 'FromSoftware', 'Japan', 1986)\n",
    "]\n",
    "cursor.executemany(\"INSERT INTO studios VALUES (?, ?, ?, ?)\", studios_data)\n",
    "\n",
    "# Insert data into games table\n",
    "games_data = [\n",
    "    (1, 'The Legend of Zelda: Ocarina of Time', 1, 'Action-Adventure', 1998, 7.6),\n",
    "    (2, 'World of Warcraft', 2, 'MMORPG', 2004, 12.0),\n",
    "    (3, 'Final Fantasy VII', 3, 'RPG', 1997, 10.0),\n",
    "    (4, 'The Witcher 3: Wild Hunt', 4, 'RPG', 2015, 50.0),\n",
    "    (5, 'Super Mario 64', 1, 'Platformer', 1996, 11.9),\n",
    "    (6, 'Grand Theft Auto V', 5, 'Action-Adventure', 2013, 195.0),\n",
    "    (7, 'Diablo II', 2, 'Action RPG', 2000, 4.0),\n",
    "    (8, 'Chrono Trigger', 3, 'RPG', 1995, 2.63),\n",
    "    (9, 'Elden Ring', 6, 'Action RPG', 2022, 23.0),\n",
    "    (10, 'Red Dead Redemption 2', 5, 'Action-Adventure', 2018, 61.0)\n",
    "]\n",
    "cursor.executemany(\"INSERT INTO games VALUES (?, ?, ?, ?, ?, ?)\", games_data)\n",
    "\n",
    "conn.commit()\n",
    "print(\"Data inserted successfully.\")"
   ]
  },
  {
   "cell_type": "markdown",
   "metadata": {},
   "source": [
    "## Part 2: Analysis Questions"
   ]
  },
  {
   "cell_type": "markdown",
   "metadata": {},
   "source": [
    "### Question 1: Basic Filtering\n",
    "List all games released **after** the year 2010. Show the game `title` and its `release_year`."
   ]
  },
  {
   "cell_type": "code",
   "execution_count": 5,
   "metadata": {},
   "outputs": [
    {
     "data": {
      "text/html": [
       "<div>\n",
       "<style scoped>\n",
       "    .dataframe tbody tr th:only-of-type {\n",
       "        vertical-align: middle;\n",
       "    }\n",
       "\n",
       "    .dataframe tbody tr th {\n",
       "        vertical-align: top;\n",
       "    }\n",
       "\n",
       "    .dataframe thead th {\n",
       "        text-align: right;\n",
       "    }\n",
       "</style>\n",
       "<table border=\"1\" class=\"dataframe\">\n",
       "  <thead>\n",
       "    <tr style=\"text-align: right;\">\n",
       "      <th></th>\n",
       "      <th>title</th>\n",
       "      <th>release_year</th>\n",
       "    </tr>\n",
       "  </thead>\n",
       "  <tbody>\n",
       "    <tr>\n",
       "      <th>0</th>\n",
       "      <td>The Witcher 3: Wild Hunt</td>\n",
       "      <td>2015</td>\n",
       "    </tr>\n",
       "    <tr>\n",
       "      <th>1</th>\n",
       "      <td>Grand Theft Auto V</td>\n",
       "      <td>2013</td>\n",
       "    </tr>\n",
       "    <tr>\n",
       "      <th>2</th>\n",
       "      <td>Elden Ring</td>\n",
       "      <td>2022</td>\n",
       "    </tr>\n",
       "    <tr>\n",
       "      <th>3</th>\n",
       "      <td>Red Dead Redemption 2</td>\n",
       "      <td>2018</td>\n",
       "    </tr>\n",
       "  </tbody>\n",
       "</table>\n",
       "</div>"
      ],
      "text/plain": [
       "                      title  release_year\n",
       "0  The Witcher 3: Wild Hunt          2015\n",
       "1        Grand Theft Auto V          2013\n",
       "2                Elden Ring          2022\n",
       "3     Red Dead Redemption 2          2018"
      ]
     },
     "metadata": {},
     "output_type": "display_data"
    }
   ],
   "source": [
    "# Your SQL query for Question 1 here\n",
    "query1 = \"\"\"\n",
    "SELECT title, release_year FROM games\n",
    "WHERE release_year > 2010;\n",
    "\"\"\"\n",
    "\n",
    "display(pd.read_sql(query1, conn))"
   ]
  },
  {
   "cell_type": "markdown",
   "metadata": {},
   "source": [
    "### Question 2: Aggregation with `SUM` and `WHERE`\n",
    "Find the total units sold (in millions) for all games in the 'RPG' genre."
   ]
  },
  {
   "cell_type": "code",
   "execution_count": 21,
   "metadata": {},
   "outputs": [
    {
     "data": {
      "text/html": [
       "<div>\n",
       "<style scoped>\n",
       "    .dataframe tbody tr th:only-of-type {\n",
       "        vertical-align: middle;\n",
       "    }\n",
       "\n",
       "    .dataframe tbody tr th {\n",
       "        vertical-align: top;\n",
       "    }\n",
       "\n",
       "    .dataframe thead th {\n",
       "        text-align: right;\n",
       "    }\n",
       "</style>\n",
       "<table border=\"1\" class=\"dataframe\">\n",
       "  <thead>\n",
       "    <tr style=\"text-align: right;\">\n",
       "      <th></th>\n",
       "      <th>genre</th>\n",
       "      <th>sum_sold</th>\n",
       "    </tr>\n",
       "  </thead>\n",
       "  <tbody>\n",
       "    <tr>\n",
       "      <th>0</th>\n",
       "      <td>RPG</td>\n",
       "      <td>62.63</td>\n",
       "    </tr>\n",
       "  </tbody>\n",
       "</table>\n",
       "</div>"
      ],
      "text/plain": [
       "  genre  sum_sold\n",
       "0   RPG     62.63"
      ]
     },
     "metadata": {},
     "output_type": "display_data"
    }
   ],
   "source": [
    "# Your SQL query for Question 2 here\n",
    "query2 = \"\"\"\n",
    "SELECT genre, \n",
    "    SUM(units_sold_millions) AS sum_sold\n",
    "FROM games\n",
    "WHERE genre IN ('RPG')\n",
    "\"\"\"\n",
    "\n",
    "display(pd.read_sql(query2, conn))"
   ]
  },
  {
   "cell_type": "markdown",
   "metadata": {},
   "source": [
    "### Question 3: `ORDER BY` and `LIMIT`\n",
    "Show the name and release year of the top 3 best-selling games (by `units_sold_millions`)."
   ]
  },
  {
   "cell_type": "code",
   "execution_count": 24,
   "metadata": {},
   "outputs": [
    {
     "data": {
      "text/html": [
       "<div>\n",
       "<style scoped>\n",
       "    .dataframe tbody tr th:only-of-type {\n",
       "        vertical-align: middle;\n",
       "    }\n",
       "\n",
       "    .dataframe tbody tr th {\n",
       "        vertical-align: top;\n",
       "    }\n",
       "\n",
       "    .dataframe thead th {\n",
       "        text-align: right;\n",
       "    }\n",
       "</style>\n",
       "<table border=\"1\" class=\"dataframe\">\n",
       "  <thead>\n",
       "    <tr style=\"text-align: right;\">\n",
       "      <th></th>\n",
       "      <th>title</th>\n",
       "      <th>release_year</th>\n",
       "    </tr>\n",
       "  </thead>\n",
       "  <tbody>\n",
       "    <tr>\n",
       "      <th>0</th>\n",
       "      <td>Grand Theft Auto V</td>\n",
       "      <td>2013</td>\n",
       "    </tr>\n",
       "    <tr>\n",
       "      <th>1</th>\n",
       "      <td>Red Dead Redemption 2</td>\n",
       "      <td>2018</td>\n",
       "    </tr>\n",
       "    <tr>\n",
       "      <th>2</th>\n",
       "      <td>The Witcher 3: Wild Hunt</td>\n",
       "      <td>2015</td>\n",
       "    </tr>\n",
       "  </tbody>\n",
       "</table>\n",
       "</div>"
      ],
      "text/plain": [
       "                      title  release_year\n",
       "0        Grand Theft Auto V          2013\n",
       "1     Red Dead Redemption 2          2018\n",
       "2  The Witcher 3: Wild Hunt          2015"
      ]
     },
     "metadata": {},
     "output_type": "display_data"
    }
   ],
   "source": [
    "# Your SQL query for Question 3 here\n",
    "query3 = \"\"\"\n",
    "SELECT title, release_year\n",
    "FROM games\n",
    "ORDER BY units_sold_millions DESC\n",
    "LIMIT 3;\n",
    "\"\"\"\n",
    "\n",
    "display(pd.read_sql(query3, conn))"
   ]
  },
  {
   "cell_type": "markdown",
   "metadata": {},
   "source": [
    "### Question 4: `LEFT JOIN`\n",
    "List all games and their studio names. Ensure that all games are listed, even if their studio is not in the `studios` table (which is not the case in our sample data, but the query should be written to handle it)."
   ]
  },
  {
   "cell_type": "code",
   "execution_count": 26,
   "metadata": {},
   "outputs": [
    {
     "data": {
      "text/html": [
       "<div>\n",
       "<style scoped>\n",
       "    .dataframe tbody tr th:only-of-type {\n",
       "        vertical-align: middle;\n",
       "    }\n",
       "\n",
       "    .dataframe tbody tr th {\n",
       "        vertical-align: top;\n",
       "    }\n",
       "\n",
       "    .dataframe thead th {\n",
       "        text-align: right;\n",
       "    }\n",
       "</style>\n",
       "<table border=\"1\" class=\"dataframe\">\n",
       "  <thead>\n",
       "    <tr style=\"text-align: right;\">\n",
       "      <th></th>\n",
       "      <th>title</th>\n",
       "      <th>studio_name</th>\n",
       "    </tr>\n",
       "  </thead>\n",
       "  <tbody>\n",
       "    <tr>\n",
       "      <th>0</th>\n",
       "      <td>The Legend of Zelda: Ocarina of Time</td>\n",
       "      <td>Nintendo</td>\n",
       "    </tr>\n",
       "    <tr>\n",
       "      <th>1</th>\n",
       "      <td>World of Warcraft</td>\n",
       "      <td>Blizzard Entertainment</td>\n",
       "    </tr>\n",
       "    <tr>\n",
       "      <th>2</th>\n",
       "      <td>Final Fantasy VII</td>\n",
       "      <td>Square Enix</td>\n",
       "    </tr>\n",
       "    <tr>\n",
       "      <th>3</th>\n",
       "      <td>The Witcher 3: Wild Hunt</td>\n",
       "      <td>CD Projekt Red</td>\n",
       "    </tr>\n",
       "    <tr>\n",
       "      <th>4</th>\n",
       "      <td>Super Mario 64</td>\n",
       "      <td>Nintendo</td>\n",
       "    </tr>\n",
       "    <tr>\n",
       "      <th>5</th>\n",
       "      <td>Grand Theft Auto V</td>\n",
       "      <td>Rockstar Games</td>\n",
       "    </tr>\n",
       "    <tr>\n",
       "      <th>6</th>\n",
       "      <td>Diablo II</td>\n",
       "      <td>Blizzard Entertainment</td>\n",
       "    </tr>\n",
       "    <tr>\n",
       "      <th>7</th>\n",
       "      <td>Chrono Trigger</td>\n",
       "      <td>Square Enix</td>\n",
       "    </tr>\n",
       "    <tr>\n",
       "      <th>8</th>\n",
       "      <td>Elden Ring</td>\n",
       "      <td>FromSoftware</td>\n",
       "    </tr>\n",
       "    <tr>\n",
       "      <th>9</th>\n",
       "      <td>Red Dead Redemption 2</td>\n",
       "      <td>Rockstar Games</td>\n",
       "    </tr>\n",
       "  </tbody>\n",
       "</table>\n",
       "</div>"
      ],
      "text/plain": [
       "                                  title             studio_name\n",
       "0  The Legend of Zelda: Ocarina of Time                Nintendo\n",
       "1                     World of Warcraft  Blizzard Entertainment\n",
       "2                     Final Fantasy VII             Square Enix\n",
       "3              The Witcher 3: Wild Hunt          CD Projekt Red\n",
       "4                        Super Mario 64                Nintendo\n",
       "5                    Grand Theft Auto V          Rockstar Games\n",
       "6                             Diablo II  Blizzard Entertainment\n",
       "7                        Chrono Trigger             Square Enix\n",
       "8                            Elden Ring            FromSoftware\n",
       "9                 Red Dead Redemption 2          Rockstar Games"
      ]
     },
     "metadata": {},
     "output_type": "display_data"
    }
   ],
   "source": [
    "# Your SQL query for Question 4 here\n",
    "query4 = \"\"\"\n",
    "SELECT games.title, studios.studio_name\n",
    "FROM games\n",
    "LEFT JOIN studios ON games.studio_id = studios.studio_id;\n",
    "\"\"\"\n",
    "\n",
    "display(pd.read_sql(query4, conn))"
   ]
  },
  {
   "cell_type": "markdown",
   "metadata": {},
   "source": [
    "### Question 5: `GROUP BY` with an Aggregate Function\n",
    "Calculate the average units sold for each studio. Show the studio name and their average sales, aliased as `avg_sales`. Order the results by average sales in descending order."
   ]
  },
  {
   "cell_type": "code",
   "execution_count": null,
   "metadata": {},
   "outputs": [
    {
     "data": {
      "text/html": [
       "<div>\n",
       "<style scoped>\n",
       "    .dataframe tbody tr th:only-of-type {\n",
       "        vertical-align: middle;\n",
       "    }\n",
       "\n",
       "    .dataframe tbody tr th {\n",
       "        vertical-align: top;\n",
       "    }\n",
       "\n",
       "    .dataframe thead th {\n",
       "        text-align: right;\n",
       "    }\n",
       "</style>\n",
       "<table border=\"1\" class=\"dataframe\">\n",
       "  <thead>\n",
       "    <tr style=\"text-align: right;\">\n",
       "      <th></th>\n",
       "      <th>studio_name</th>\n",
       "      <th>avg_sales</th>\n",
       "      <th>total_games</th>\n",
       "    </tr>\n",
       "  </thead>\n",
       "  <tbody>\n",
       "    <tr>\n",
       "      <th>0</th>\n",
       "      <td>Blizzard Entertainment</td>\n",
       "      <td>8.000</td>\n",
       "      <td>2</td>\n",
       "    </tr>\n",
       "    <tr>\n",
       "      <th>1</th>\n",
       "      <td>CD Projekt Red</td>\n",
       "      <td>50.000</td>\n",
       "      <td>1</td>\n",
       "    </tr>\n",
       "    <tr>\n",
       "      <th>2</th>\n",
       "      <td>FromSoftware</td>\n",
       "      <td>23.000</td>\n",
       "      <td>1</td>\n",
       "    </tr>\n",
       "    <tr>\n",
       "      <th>3</th>\n",
       "      <td>Nintendo</td>\n",
       "      <td>9.750</td>\n",
       "      <td>2</td>\n",
       "    </tr>\n",
       "    <tr>\n",
       "      <th>4</th>\n",
       "      <td>Rockstar Games</td>\n",
       "      <td>128.000</td>\n",
       "      <td>2</td>\n",
       "    </tr>\n",
       "    <tr>\n",
       "      <th>5</th>\n",
       "      <td>Square Enix</td>\n",
       "      <td>6.315</td>\n",
       "      <td>2</td>\n",
       "    </tr>\n",
       "  </tbody>\n",
       "</table>\n",
       "</div>"
      ],
      "text/plain": [
       "              studio_name  avg_sales  total_games\n",
       "0  Blizzard Entertainment      8.000            2\n",
       "1          CD Projekt Red     50.000            1\n",
       "2            FromSoftware     23.000            1\n",
       "3                Nintendo      9.750            2\n",
       "4          Rockstar Games    128.000            2\n",
       "5             Square Enix      6.315            2"
      ]
     },
     "metadata": {},
     "output_type": "display_data"
    }
   ],
   "source": [
    "# Your SQL query for Question 5 here\n",
    "query5 = \"\"\"\n",
    "SELECT studios.studio_name, AVG(games.units_sold_millions) AS avg_sales\n",
    "FROM games\n",
    "LEFT JOIN studios ON games.studio_id = studios.studio_id\n",
    "GROUP BY studios.studio_name\n",
    "\"\"\"\n",
    "\n",
    "display(pd.read_sql(query5, conn))"
   ]
  },
  {
   "cell_type": "markdown",
   "metadata": {},
   "source": [
    "### Question 6: `GROUP BY` with `HAVING`\n",
    "Find all studios that have released **more than one** game. Show the studio name and the count of games they have released."
   ]
  },
  {
   "cell_type": "code",
   "execution_count": 39,
   "metadata": {},
   "outputs": [
    {
     "data": {
      "text/html": [
       "<div>\n",
       "<style scoped>\n",
       "    .dataframe tbody tr th:only-of-type {\n",
       "        vertical-align: middle;\n",
       "    }\n",
       "\n",
       "    .dataframe tbody tr th {\n",
       "        vertical-align: top;\n",
       "    }\n",
       "\n",
       "    .dataframe thead th {\n",
       "        text-align: right;\n",
       "    }\n",
       "</style>\n",
       "<table border=\"1\" class=\"dataframe\">\n",
       "  <thead>\n",
       "    <tr style=\"text-align: right;\">\n",
       "      <th></th>\n",
       "      <th>studio_name</th>\n",
       "      <th>total_games</th>\n",
       "    </tr>\n",
       "  </thead>\n",
       "  <tbody>\n",
       "    <tr>\n",
       "      <th>0</th>\n",
       "      <td>Blizzard Entertainment</td>\n",
       "      <td>2</td>\n",
       "    </tr>\n",
       "    <tr>\n",
       "      <th>1</th>\n",
       "      <td>Nintendo</td>\n",
       "      <td>2</td>\n",
       "    </tr>\n",
       "    <tr>\n",
       "      <th>2</th>\n",
       "      <td>Rockstar Games</td>\n",
       "      <td>2</td>\n",
       "    </tr>\n",
       "    <tr>\n",
       "      <th>3</th>\n",
       "      <td>Square Enix</td>\n",
       "      <td>2</td>\n",
       "    </tr>\n",
       "  </tbody>\n",
       "</table>\n",
       "</div>"
      ],
      "text/plain": [
       "              studio_name  total_games\n",
       "0  Blizzard Entertainment            2\n",
       "1                Nintendo            2\n",
       "2          Rockstar Games            2\n",
       "3             Square Enix            2"
      ]
     },
     "metadata": {},
     "output_type": "display_data"
    }
   ],
   "source": [
    "# Your SQL query for Question 6 here\n",
    "query6 = \"\"\"\n",
    "SELECT studios.studio_name, COUNT(games.game_id) AS total_games\n",
    "FROM studios\n",
    "LEFT JOIN games ON studios.studio_id = games.studio_id\n",
    "GROUP BY studios.studio_name\n",
    "HAVING COUNT(games.game_id) > 1\n",
    "\"\"\"\n",
    "\n",
    "display(pd.read_sql(query6, conn))"
   ]
  },
  {
   "cell_type": "markdown",
   "metadata": {},
   "source": [
    "### Question 7: String Manipulation with `LIKE`\n",
    "Find all game titles that contain the word `The`."
   ]
  },
  {
   "cell_type": "code",
   "execution_count": 42,
   "metadata": {},
   "outputs": [
    {
     "data": {
      "text/html": [
       "<div>\n",
       "<style scoped>\n",
       "    .dataframe tbody tr th:only-of-type {\n",
       "        vertical-align: middle;\n",
       "    }\n",
       "\n",
       "    .dataframe tbody tr th {\n",
       "        vertical-align: top;\n",
       "    }\n",
       "\n",
       "    .dataframe thead th {\n",
       "        text-align: right;\n",
       "    }\n",
       "</style>\n",
       "<table border=\"1\" class=\"dataframe\">\n",
       "  <thead>\n",
       "    <tr style=\"text-align: right;\">\n",
       "      <th></th>\n",
       "      <th>title</th>\n",
       "    </tr>\n",
       "  </thead>\n",
       "  <tbody>\n",
       "    <tr>\n",
       "      <th>0</th>\n",
       "      <td>The Legend of Zelda: Ocarina of Time</td>\n",
       "    </tr>\n",
       "    <tr>\n",
       "      <th>1</th>\n",
       "      <td>The Witcher 3: Wild Hunt</td>\n",
       "    </tr>\n",
       "  </tbody>\n",
       "</table>\n",
       "</div>"
      ],
      "text/plain": [
       "                                  title\n",
       "0  The Legend of Zelda: Ocarina of Time\n",
       "1              The Witcher 3: Wild Hunt"
      ]
     },
     "metadata": {},
     "output_type": "display_data"
    }
   ],
   "source": [
    "# Your SQL query for Question 7 here\n",
    "query7 = \"\"\"\n",
    "SELECT title FROM games\n",
    "WHERE title LIKE '%The %'\n",
    "\"\"\"\n",
    "\n",
    "display(pd.read_sql(query7, conn))"
   ]
  },
  {
   "cell_type": "markdown",
   "metadata": {},
   "source": [
    "### Question 8: Conditional Logic with `CASE`\n",
    "Categorise games based on their sales: 'Blockbuster' for games with over 50 million units sold, 'Hit' for games with 10 to 50 million units sold (inclusive), and 'Classic' for games with under 10 million units sold. Show the game `title` and its `sales_category`."
   ]
  },
  {
   "cell_type": "code",
   "execution_count": 44,
   "metadata": {},
   "outputs": [
    {
     "data": {
      "text/html": [
       "<div>\n",
       "<style scoped>\n",
       "    .dataframe tbody tr th:only-of-type {\n",
       "        vertical-align: middle;\n",
       "    }\n",
       "\n",
       "    .dataframe tbody tr th {\n",
       "        vertical-align: top;\n",
       "    }\n",
       "\n",
       "    .dataframe thead th {\n",
       "        text-align: right;\n",
       "    }\n",
       "</style>\n",
       "<table border=\"1\" class=\"dataframe\">\n",
       "  <thead>\n",
       "    <tr style=\"text-align: right;\">\n",
       "      <th></th>\n",
       "      <th>title</th>\n",
       "      <th>sales_category</th>\n",
       "    </tr>\n",
       "  </thead>\n",
       "  <tbody>\n",
       "    <tr>\n",
       "      <th>0</th>\n",
       "      <td>The Legend of Zelda: Ocarina of Time</td>\n",
       "      <td>Classic</td>\n",
       "    </tr>\n",
       "    <tr>\n",
       "      <th>1</th>\n",
       "      <td>World of Warcraft</td>\n",
       "      <td>Hit</td>\n",
       "    </tr>\n",
       "    <tr>\n",
       "      <th>2</th>\n",
       "      <td>Final Fantasy VII</td>\n",
       "      <td>Hit</td>\n",
       "    </tr>\n",
       "    <tr>\n",
       "      <th>3</th>\n",
       "      <td>The Witcher 3: Wild Hunt</td>\n",
       "      <td>Hit</td>\n",
       "    </tr>\n",
       "    <tr>\n",
       "      <th>4</th>\n",
       "      <td>Super Mario 64</td>\n",
       "      <td>Hit</td>\n",
       "    </tr>\n",
       "    <tr>\n",
       "      <th>5</th>\n",
       "      <td>Grand Theft Auto V</td>\n",
       "      <td>Blockbuster</td>\n",
       "    </tr>\n",
       "    <tr>\n",
       "      <th>6</th>\n",
       "      <td>Diablo II</td>\n",
       "      <td>Classic</td>\n",
       "    </tr>\n",
       "    <tr>\n",
       "      <th>7</th>\n",
       "      <td>Chrono Trigger</td>\n",
       "      <td>Classic</td>\n",
       "    </tr>\n",
       "    <tr>\n",
       "      <th>8</th>\n",
       "      <td>Elden Ring</td>\n",
       "      <td>Hit</td>\n",
       "    </tr>\n",
       "    <tr>\n",
       "      <th>9</th>\n",
       "      <td>Red Dead Redemption 2</td>\n",
       "      <td>Blockbuster</td>\n",
       "    </tr>\n",
       "  </tbody>\n",
       "</table>\n",
       "</div>"
      ],
      "text/plain": [
       "                                  title sales_category\n",
       "0  The Legend of Zelda: Ocarina of Time        Classic\n",
       "1                     World of Warcraft            Hit\n",
       "2                     Final Fantasy VII            Hit\n",
       "3              The Witcher 3: Wild Hunt            Hit\n",
       "4                        Super Mario 64            Hit\n",
       "5                    Grand Theft Auto V    Blockbuster\n",
       "6                             Diablo II        Classic\n",
       "7                        Chrono Trigger        Classic\n",
       "8                            Elden Ring            Hit\n",
       "9                 Red Dead Redemption 2    Blockbuster"
      ]
     },
     "metadata": {},
     "output_type": "display_data"
    }
   ],
   "source": [
    "# Your SQL query for Question 8 here\n",
    "query8 = \"\"\"\n",
    "SELECT title,\n",
    "    CASE\n",
    "        WHEN units_sold_millions > 50 THEN 'Blockbuster'\n",
    "        WHEN units_sold_millions BETWEEN 10 AND 50 THEN 'Hit'\n",
    "        WHEN units_sold_millions < 10 THEN 'Classic'\n",
    "    END AS sales_category\n",
    "FROM games\n",
    "\"\"\"\n",
    "\n",
    "display(pd.read_sql(query8, conn))"
   ]
  },
  {
   "cell_type": "markdown",
   "metadata": {},
   "source": [
    "### Question 9: Subquery in a `WHERE` Clause\n",
    "List all games that have sold more units than the average of all games in the database."
   ]
  },
  {
   "cell_type": "code",
   "execution_count": 69,
   "metadata": {},
   "outputs": [
    {
     "data": {
      "text/html": [
       "<div>\n",
       "<style scoped>\n",
       "    .dataframe tbody tr th:only-of-type {\n",
       "        vertical-align: middle;\n",
       "    }\n",
       "\n",
       "    .dataframe tbody tr th {\n",
       "        vertical-align: top;\n",
       "    }\n",
       "\n",
       "    .dataframe thead th {\n",
       "        text-align: right;\n",
       "    }\n",
       "</style>\n",
       "<table border=\"1\" class=\"dataframe\">\n",
       "  <thead>\n",
       "    <tr style=\"text-align: right;\">\n",
       "      <th></th>\n",
       "      <th>title</th>\n",
       "      <th>units_sold_millions</th>\n",
       "    </tr>\n",
       "  </thead>\n",
       "  <tbody>\n",
       "    <tr>\n",
       "      <th>0</th>\n",
       "      <td>The Witcher 3: Wild Hunt</td>\n",
       "      <td>50.0</td>\n",
       "    </tr>\n",
       "    <tr>\n",
       "      <th>1</th>\n",
       "      <td>Grand Theft Auto V</td>\n",
       "      <td>195.0</td>\n",
       "    </tr>\n",
       "    <tr>\n",
       "      <th>2</th>\n",
       "      <td>Red Dead Redemption 2</td>\n",
       "      <td>61.0</td>\n",
       "    </tr>\n",
       "  </tbody>\n",
       "</table>\n",
       "</div>"
      ],
      "text/plain": [
       "                      title  units_sold_millions\n",
       "0  The Witcher 3: Wild Hunt                 50.0\n",
       "1        Grand Theft Auto V                195.0\n",
       "2     Red Dead Redemption 2                 61.0"
      ]
     },
     "metadata": {},
     "output_type": "display_data"
    }
   ],
   "source": [
    "# Your SQL query for Question 9 here\n",
    "query9 = \"\"\"\n",
    "SELECT title, units_sold_millions\n",
    "FROM games\n",
    "WHERE units_sold_millions > (SELECT AVG(units_sold_millions) FROM games);\n",
    "\"\"\"\n",
    "\n",
    "display(pd.read_sql(query9, conn))"
   ]
  },
  {
   "cell_type": "markdown",
   "metadata": {},
   "source": [
    "### Question 10: Window Function (`RANK`)\n",
    "Rank games within each `genre` based on their release year (from oldest to newest). Show the `genre`, game `title`, `release_year`, and the rank."
   ]
  },
  {
   "cell_type": "code",
   "execution_count": 74,
   "metadata": {},
   "outputs": [
    {
     "data": {
      "text/html": [
       "<div>\n",
       "<style scoped>\n",
       "    .dataframe tbody tr th:only-of-type {\n",
       "        vertical-align: middle;\n",
       "    }\n",
       "\n",
       "    .dataframe tbody tr th {\n",
       "        vertical-align: top;\n",
       "    }\n",
       "\n",
       "    .dataframe thead th {\n",
       "        text-align: right;\n",
       "    }\n",
       "</style>\n",
       "<table border=\"1\" class=\"dataframe\">\n",
       "  <thead>\n",
       "    <tr style=\"text-align: right;\">\n",
       "      <th></th>\n",
       "      <th>title</th>\n",
       "      <th>genre</th>\n",
       "      <th>release_year</th>\n",
       "      <th>rank_overall</th>\n",
       "    </tr>\n",
       "  </thead>\n",
       "  <tbody>\n",
       "    <tr>\n",
       "      <th>0</th>\n",
       "      <td>Chrono Trigger</td>\n",
       "      <td>RPG</td>\n",
       "      <td>1995</td>\n",
       "      <td>1</td>\n",
       "    </tr>\n",
       "    <tr>\n",
       "      <th>1</th>\n",
       "      <td>Super Mario 64</td>\n",
       "      <td>Platformer</td>\n",
       "      <td>1996</td>\n",
       "      <td>2</td>\n",
       "    </tr>\n",
       "    <tr>\n",
       "      <th>2</th>\n",
       "      <td>Final Fantasy VII</td>\n",
       "      <td>RPG</td>\n",
       "      <td>1997</td>\n",
       "      <td>3</td>\n",
       "    </tr>\n",
       "    <tr>\n",
       "      <th>3</th>\n",
       "      <td>The Legend of Zelda: Ocarina of Time</td>\n",
       "      <td>Action-Adventure</td>\n",
       "      <td>1998</td>\n",
       "      <td>4</td>\n",
       "    </tr>\n",
       "    <tr>\n",
       "      <th>4</th>\n",
       "      <td>Diablo II</td>\n",
       "      <td>Action RPG</td>\n",
       "      <td>2000</td>\n",
       "      <td>5</td>\n",
       "    </tr>\n",
       "    <tr>\n",
       "      <th>5</th>\n",
       "      <td>World of Warcraft</td>\n",
       "      <td>MMORPG</td>\n",
       "      <td>2004</td>\n",
       "      <td>6</td>\n",
       "    </tr>\n",
       "    <tr>\n",
       "      <th>6</th>\n",
       "      <td>Grand Theft Auto V</td>\n",
       "      <td>Action-Adventure</td>\n",
       "      <td>2013</td>\n",
       "      <td>7</td>\n",
       "    </tr>\n",
       "    <tr>\n",
       "      <th>7</th>\n",
       "      <td>The Witcher 3: Wild Hunt</td>\n",
       "      <td>RPG</td>\n",
       "      <td>2015</td>\n",
       "      <td>8</td>\n",
       "    </tr>\n",
       "    <tr>\n",
       "      <th>8</th>\n",
       "      <td>Red Dead Redemption 2</td>\n",
       "      <td>Action-Adventure</td>\n",
       "      <td>2018</td>\n",
       "      <td>9</td>\n",
       "    </tr>\n",
       "    <tr>\n",
       "      <th>9</th>\n",
       "      <td>Elden Ring</td>\n",
       "      <td>Action RPG</td>\n",
       "      <td>2022</td>\n",
       "      <td>10</td>\n",
       "    </tr>\n",
       "  </tbody>\n",
       "</table>\n",
       "</div>"
      ],
      "text/plain": [
       "                                  title             genre  release_year  \\\n",
       "0                        Chrono Trigger               RPG          1995   \n",
       "1                        Super Mario 64        Platformer          1996   \n",
       "2                     Final Fantasy VII               RPG          1997   \n",
       "3  The Legend of Zelda: Ocarina of Time  Action-Adventure          1998   \n",
       "4                             Diablo II        Action RPG          2000   \n",
       "5                     World of Warcraft            MMORPG          2004   \n",
       "6                    Grand Theft Auto V  Action-Adventure          2013   \n",
       "7              The Witcher 3: Wild Hunt               RPG          2015   \n",
       "8                 Red Dead Redemption 2  Action-Adventure          2018   \n",
       "9                            Elden Ring        Action RPG          2022   \n",
       "\n",
       "   rank_overall  \n",
       "0             1  \n",
       "1             2  \n",
       "2             3  \n",
       "3             4  \n",
       "4             5  \n",
       "5             6  \n",
       "6             7  \n",
       "7             8  \n",
       "8             9  \n",
       "9            10  "
      ]
     },
     "metadata": {},
     "output_type": "display_data"
    }
   ],
   "source": [
    "# Your SQL query for Question 10 here\n",
    "query10 = \"\"\"\n",
    "SELECT title, genre, release_year,\n",
    "RANK() OVER (ORDER BY release_year ASC) AS rank_overall\n",
    "FROM games\n",
    "ORDER BY rank_overall;\n",
    "\"\"\"\n",
    "\n",
    "display(pd.read_sql(query10, conn))"
   ]
  },
  {
   "cell_type": "markdown",
   "metadata": {},
   "source": [
    "## Part 3: Cleanup\n",
    "\n",
    "When you are finished, it's good practice to close the database connection."
   ]
  },
  {
   "cell_type": "code",
   "execution_count": 75,
   "metadata": {},
   "outputs": [
    {
     "name": "stdout",
     "output_type": "stream",
     "text": [
      "Database connection closed.\n"
     ]
    }
   ],
   "source": [
    "# Close the connection\n",
    "conn.close()\n",
    "print(\"Database connection closed.\")"
   ]
  }
 ],
 "metadata": {
  "kernelspec": {
   "display_name": "base",
   "language": "python",
   "name": "python3"
  },
  "language_info": {
   "codemirror_mode": {
    "name": "ipython",
    "version": 3
   },
   "file_extension": ".py",
   "mimetype": "text/x-python",
   "name": "python",
   "nbconvert_exporter": "python",
   "pygments_lexer": "ipython3",
   "version": "3.12.7"
  }
 },
 "nbformat": 4,
 "nbformat_minor": 5
}
