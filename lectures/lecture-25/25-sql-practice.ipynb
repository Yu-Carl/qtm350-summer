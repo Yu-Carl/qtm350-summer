{
 "cells": [
  {
   "cell_type": "markdown",
   "id": "ec245430",
   "metadata": {},
   "source": [
    "# QTM 350 - SQL Practice Session\n",
    "## Analysing Classic Video Games & Studios\n",
    "**Author:** Danilo Freire (danilo.freire@emory.edu, Emory University)"
   ]
  },
  {
   "cell_type": "markdown",
   "metadata": {},
   "source": [
    "### Objective\n",
    "In this session, you will practice your SQL skills by creating and querying a database of classic video games and their development studios. You will use `SELECT` statements, aggregate functions, joins, and other SQL features to answer a series of questions.\n",
    "\n",
    "### Instructions\n",
    "1. Run the **Setup** cells to create and populate your database for this session.\n",
    "2. For each question, write a single SQL query in the designated code cell to find the answer.\n",
    "3. Use `pd.read_sql()` to execute your query and display the results as a pandas DataFrame."
   ]
  },
  {
   "cell_type": "markdown",
   "metadata": {},
   "source": [
    "## Part 1: Database and Table Setup"
   ]
  },
  {
   "cell_type": "code",
   "execution_count": null,
   "metadata": {},
   "outputs": [],
   "source": [
    "import sqlite3\n",
    "import pandas as pd\n",
    "from IPython.display import display\n",
    "\n",
    "# Connect to an in-memory SQLite database\n",
    "conn = sqlite3.connect(':memory:')\n",
    "cursor = conn.cursor()\n",
    "\n",
    "print(\"Database connection established.\")"
   ]
  },
  {
   "cell_type": "markdown",
   "metadata": {},
   "source": [
    "### Table Schemas\n",
    "\n",
    "We will work with two tables: `studios` and `games`.\n",
    "\n",
    "**`studios` table:**\n",
    "| Column         | Type    | Description                               |\n",
    "|----------------|---------|-------------------------------------------|\n",
    "| `studio_id`    | INTEGER | Primary Key for the studio.               |\n",
    "| `studio_name`  | TEXT    | The name of the game development studio.  |\n",
    "| `country`      | TEXT    | The country where the studio is based.    |\n",
    "| `year_founded` | INTEGER | The year the studio was founded.          |\n",
    "\n",
    "**`games` table:**\n",
    "| Column               | Type    | Description                                      |\n",
    "|----------------------|---------|--------------------------------------------------|\n",
    "| `game_id`            | INTEGER | Primary Key for the game.                        |\n",
    "| `title`              | TEXT    | The title of the video game.                     |\n",
    "| `studio_id`          | INTEGER | Foreign Key referencing `studios(studio_id)`.      |\n",
    "| `genre`              | TEXT    | The genre of the game (e.g., RPG, Platformer).   |\n",
    "| `release_year`       | INTEGER | The year the game was released.                  |\n",
    "| `units_sold_millions`| REAL    | Units sold, in millions.                         |"
   ]
  },
  {
   "cell_type": "code",
   "execution_count": null,
   "metadata": {},
   "outputs": [],
   "source": [
    "# Drop tables if they already exist to ensure a clean slate\n",
    "cursor.execute(\"DROP TABLE IF EXISTS games;\")\n",
    "cursor.execute(\"DROP TABLE IF EXISTS studios;\")\n",
    "\n",
    "# Create studios table\n",
    "cursor.execute(\"\"\"\n",
    "CREATE TABLE studios (\n",
    "    studio_id INTEGER PRIMARY KEY,\n",
    "    studio_name TEXT NOT NULL,\n",
    "    country TEXT,\n",
    "    year_founded INTEGER\n",
    ");\n",
    "\"\"\")\n",
    "\n",
    "# Create games table\n",
    "cursor.execute(\"\"\"\n",
    "CREATE TABLE games (\n",
    "    game_id INTEGER PRIMARY KEY,\n",
    "    title TEXT NOT NULL,\n",
    "    studio_id INTEGER,\n",
    "    genre TEXT,\n",
    "    release_year INTEGER,\n",
    "    units_sold_millions REAL,\n",
    "    FOREIGN KEY (studio_id) REFERENCES studios(studio_id)\n",
    ");\n",
    "\"\"\")\n",
    "\n",
    "print(\"Tables 'studios' and 'games' created successfully.\")"
   ]
  },
  {
   "cell_type": "code",
   "execution_count": null,
   "metadata": {},
   "outputs": [],
   "source": [
    "# Insert data into studios table\n",
    "studios_data = [\n",
    "    (1, 'Nintendo', 'Japan', 1889),\n",
    "    (2, 'Blizzard Entertainment', 'USA', 1991),\n",
    "    (3, 'Square Enix', 'Japan', 2003),\n",
    "    (4, 'CD Projekt Red', 'Poland', 1994),\n",
    "    (5, 'Rockstar Games', 'USA', 1998),\n",
    "    (6, 'FromSoftware', 'Japan', 1986)\n",
    "]\n",
    "cursor.executemany(\"INSERT INTO studios VALUES (?, ?, ?, ?)\", studios_data)\n",
    "\n",
    "# Insert data into games table\n",
    "games_data = [\n",
    "    (1, 'The Legend of Zelda: Ocarina of Time', 1, 'Action-Adventure', 1998, 7.6),\n",
    "    (2, 'World of Warcraft', 2, 'MMORPG', 2004, 12.0),\n",
    "    (3, 'Final Fantasy VII', 3, 'RPG', 1997, 10.0),\n",
    "    (4, 'The Witcher 3: Wild Hunt', 4, 'RPG', 2015, 50.0),\n",
    "    (5, 'Super Mario 64', 1, 'Platformer', 1996, 11.9),\n",
    "    (6, 'Grand Theft Auto V', 5, 'Action-Adventure', 2013, 195.0),\n",
    "    (7, 'Diablo II', 2, 'Action RPG', 2000, 4.0),\n",
    "    (8, 'Chrono Trigger', 3, 'RPG', 1995, 2.63),\n",
    "    (9, 'Elden Ring', 6, 'Action RPG', 2022, 23.0),\n",
    "    (10, 'Red Dead Redemption 2', 5, 'Action-Adventure', 2018, 61.0)\n",
    "]\n",
    "cursor.executemany(\"INSERT INTO games VALUES (?, ?, ?, ?, ?, ?)\", games_data)\n",
    "\n",
    "conn.commit()\n",
    "print(\"Data inserted successfully.\")"
   ]
  },
  {
   "cell_type": "markdown",
   "metadata": {},
   "source": [
    "## Part 2: Analysis Questions"
   ]
  },
  {
   "cell_type": "markdown",
   "metadata": {},
   "source": [
    "### Question 1: Basic Filtering\n",
    "List all games released **after** the year 2010. Show the game `title` and its `release_year`."
   ]
  },
  {
   "cell_type": "code",
   "execution_count": null,
   "metadata": {},
   "outputs": [],
   "source": [
    "# Your SQL query for Question 1 here\n",
    "query1 = \"\"\"\n",
    "\n",
    "\"\"\"\n",
    "\n",
    "# display(pd.read_sql(query1, conn))"
   ]
  },
  {
   "cell_type": "markdown",
   "metadata": {},
   "source": [
    "### Question 2: Aggregation with `SUM` and `WHERE`\n",
    "Find the total units sold (in millions) for all games in the 'RPG' genre."
   ]
  },
  {
   "cell_type": "code",
   "execution_count": null,
   "metadata": {},
   "outputs": [],
   "source": [
    "# Your SQL query for Question 2 here\n",
    "query2 = \"\"\"\n",
    "\n",
    "\"\"\"\n",
    "\n",
    "# display(pd.read_sql(query2, conn))"
   ]
  },
  {
   "cell_type": "markdown",
   "metadata": {},
   "source": [
    "### Question 3: `ORDER BY` and `LIMIT`\n",
    "Show the name and release year of the top 3 best-selling games (by `units_sold_millions`)."
   ]
  },
  {
   "cell_type": "code",
   "execution_count": null,
   "metadata": {},
   "outputs": [],
   "source": [
    "# Your SQL query for Question 3 here\n",
    "query3 = \"\"\"\n",
    "\n",
    "\"\"\"\n",
    "\n",
    "# display(pd.read_sql(query3, conn))"
   ]
  },
  {
   "cell_type": "markdown",
   "metadata": {},
   "source": [
    "### Question 4: `LEFT JOIN`\n",
    "List all games and their studio names. Ensure that all games are listed, even if their studio is not in the `studios` table (which is not the case in our sample data, but the query should be written to handle it)."
   ]
  },
  {
   "cell_type": "code",
   "execution_count": null,
   "metadata": {},
   "outputs": [],
   "source": [
    "# Your SQL query for Question 4 here\n",
    "query4 = \"\"\"\n",
    "\n",
    "\"\"\"\n",
    "\n",
    "# display(pd.read_sql(query4, conn))"
   ]
  },
  {
   "cell_type": "markdown",
   "metadata": {},
   "source": [
    "### Question 5: `GROUP BY` with an Aggregate Function\n",
    "Calculate the average units sold for each studio. Show the studio name and their average sales, aliased as `avg_sales`. Order the results by average sales in descending order."
   ]
  },
  {
   "cell_type": "code",
   "execution_count": null,
   "metadata": {},
   "outputs": [],
   "source": [
    "# Your SQL query for Question 5 here\n",
    "query5 = \"\"\"\n",
    "\n",
    "\"\"\"\n",
    "\n",
    "# display(pd.read_sql(query5, conn))"
   ]
  },
  {
   "cell_type": "markdown",
   "metadata": {},
   "source": [
    "### Question 6: `GROUP BY` with `HAVING`\n",
    "Find all studios that have released **more than one** game. Show the studio name and the count of games they have released."
   ]
  },
  {
   "cell_type": "code",
   "execution_count": null,
   "metadata": {},
   "outputs": [],
   "source": [
    "# Your SQL query for Question 6 here\n",
    "query6 = \"\"\"\n",
    "\n",
    "\"\"\"\n",
    "\n",
    "# display(pd.read_sql(query6, conn))"
   ]
  },
  {
   "cell_type": "markdown",
   "metadata": {},
   "source": [
    "### Question 7: String Manipulation with `LIKE`\n",
    "Find all game titles that contain the word `The`."
   ]
  },
  {
   "cell_type": "code",
   "execution_count": null,
   "metadata": {},
   "outputs": [],
   "source": [
    "# Your SQL query for Question 7 here\n",
    "query7 = \"\"\"\n",
    "\n",
    "\"\"\"\n",
    "\n",
    "# display(pd.read_sql(query7, conn))"
   ]
  },
  {
   "cell_type": "markdown",
   "metadata": {},
   "source": [
    "### Question 8: Conditional Logic with `CASE`\n",
    "Categorise games based on their sales: 'Blockbuster' for games with over 50 million units sold, 'Hit' for games with 10 to 50 million units sold (inclusive), and 'Classic' for games with under 10 million units sold. Show the game `title` and its `sales_category`."
   ]
  },
  {
   "cell_type": "code",
   "execution_count": null,
   "metadata": {},
   "outputs": [],
   "source": [
    "# Your SQL query for Question 8 here\n",
    "query8 = \"\"\"\n",
    "\n",
    "\"\"\"\n",
    "\n",
    "# display(pd.read_sql(query8, conn))"
   ]
  },
  {
   "cell_type": "markdown",
   "metadata": {},
   "source": [
    "### Question 9: Subquery in a `WHERE` Clause\n",
    "List all games that have sold more units than the average of all games in the database."
   ]
  },
  {
   "cell_type": "code",
   "execution_count": null,
   "metadata": {},
   "outputs": [],
   "source": [
    "# Your SQL query for Question 9 here\n",
    "query9 = \"\"\"\n",
    "\n",
    "\"\"\"\n",
    "\n",
    "# display(pd.read_sql(query9, conn))"
   ]
  },
  {
   "cell_type": "markdown",
   "metadata": {},
   "source": [
    "### Question 10: Window Function (`RANK`)\n",
    "Rank games within each `genre` based on their release year (from oldest to newest). Show the `genre`, game `title`, `release_year`, and the rank."
   ]
  },
  {
   "cell_type": "code",
   "execution_count": null,
   "metadata": {},
   "outputs": [],
   "source": [
    "# Your SQL query for Question 10 here\n",
    "query10 = \"\"\"\n",
    "\n",
    "\"\"\"\n",
    "\n",
    "# display(pd.read_sql(query10, conn))"
   ]
  },
  {
   "cell_type": "markdown",
   "metadata": {},
   "source": [
    "## Part 3: Cleanup\n",
    "\n",
    "When you are finished, it's good practice to close the database connection."
   ]
  },
  {
   "cell_type": "code",
   "execution_count": null,
   "metadata": {},
   "outputs": [],
   "source": [
    "# Close the connection\n",
    "conn.close()\n",
    "print(\"Database connection closed.\")"
   ]
  }
 ],
 "metadata": {
  "kernelspec": {
   "display_name": "base",
   "language": "python",
   "name": "python3"
  },
  "language_info": {
   "codemirror_mode": {
    "name": "ipython",
    "version": 3
   },
   "file_extension": ".py",
   "mimetype": "text/x-python",
   "name": "python",
   "nbconvert_exporter": "python",
   "pygments_lexer": "ipython3",
   "version": "3.13.2"
  }
 },
 "nbformat": 4,
 "nbformat_minor": 5
}
