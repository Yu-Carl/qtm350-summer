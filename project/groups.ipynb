{
 "cells": [
  {
   "cell_type": "markdown",
   "metadata": {},
   "source": [
    "# QTM350 - Group Project\n",
    "## Group members\n",
    "\n",
    "Please find the names of the group members below:"
   ]
  },
  {
   "cell_type": "code",
   "execution_count": 1,
   "metadata": {},
   "outputs": [],
   "source": [
    "# Import packages\n",
    "import sqlite3\n",
    "import pandas as pd\n",
    "import random"
   ]
  },
  {
   "cell_type": "code",
   "execution_count": 2,
   "metadata": {},
   "outputs": [],
   "source": [
    "# Connect to the database\n",
    "connection = sqlite3.connect(\"groups.db\")\n",
    "cursor = connection.cursor()"
   ]
  },
  {
   "cell_type": "code",
   "execution_count": 3,
   "metadata": {},
   "outputs": [],
   "source": [
    "# Execute the SQL commands to create the table\n",
    "cursor.execute('''\n",
    "DROP TABLE IF EXISTS groups;\n",
    "''')\n",
    "\n",
    "cursor.execute('''\n",
    "CREATE TABLE groups (\n",
    "    student_id INTEGER PRIMARY KEY AUTOINCREMENT,\n",
    "    student_name TEXT NOT NULL UNIQUE,\n",
    "    emory_id INT UNIQUE, -- Allow NULL and ensure uniqueness\n",
    "    group_id INT\n",
    ");\n",
    "''')\n",
    "\n",
    "# Commit the changes for table creation\n",
    "connection.commit()"
   ]
  },
  {
   "cell_type": "code",
   "execution_count": 4,
   "metadata": {},
   "outputs": [],
   "source": [
    "# Insert data into the table\n",
    "insert_sql = '''\n",
    "INSERT INTO groups (student_name, emory_id, group_id) VALUES (?, ?, ?)\n",
    "'''\n",
    "\n",
    "# List of tuples: (student_name, emory_id, group_id)\n",
    "# Using Python None here, as executemany handles it correctly for sqlite3\n",
    "students_data = [\n",
    "    ('Ahshar Brown', 2575182, None),\n",
    "    ('Kimberly Cardinale ', 2548934, 1),\n",
    "    ('Maisy Christians', 2550529, None),\n",
    "    ('Jennifer Gu', 2606428, None),\n",
    "    ('Alan Na', 2588698, None),\n",
    "    ('Carl Yu', 2550364, 1)\n",
    "]\n",
    "\n",
    "cursor.executemany(insert_sql, students_data)\n",
    "\n",
    "# Commit the transaction for data insertion\n",
    "connection.commit()"
   ]
  },
  {
   "cell_type": "code",
   "execution_count": 5,
   "metadata": {},
   "outputs": [
    {
     "name": "stdout",
     "output_type": "stream",
     "text": [
      "\n",
      "--- Assigning Remaining Students to Groups ---\n",
      "Found 4 unassigned students.\n",
      "Creating 2 groups of 2 and 0 groups of 3.\n",
      "Starting new groups from ID: 2\n",
      "\n",
      "Assigning groups of 2...\n",
      "  Assigning group 2 to students (IDs): [1, 3]\n",
      "  Assigning group 3 to students (IDs): [5, 4]\n",
      "\n",
      "Assigning groups of 3...\n",
      "\n",
      "Finished assigning groups.\n",
      "--- End of Group Assignment ---\n",
      "\n"
     ]
    }
   ],
   "source": [
    "# --- Random Group Assignment Logic ---\n",
    "print(\"\\n--- Assigning Remaining Students to Groups ---\")\n",
    "\n",
    "# Ensure connection is still open or reconnect\n",
    "try:\n",
    "    # Check if cursor is usable by executing a simple query\n",
    "    cursor.execute(\"SELECT 1\") \n",
    "except (sqlite3.ProgrammingError, AttributeError, NameError): \n",
    "    print(\"Reconnecting to database for group assignment...\")\n",
    "    connection = sqlite3.connect(db_file)\n",
    "    cursor = connection.cursor()\n",
    "\n",
    "# Fetch unassigned students (student_id)\n",
    "cursor.execute(\"SELECT student_id FROM groups WHERE group_id IS NULL\")\n",
    "unassigned_rows = cursor.fetchall()\n",
    "unassigned_ids = [row[0] for row in unassigned_rows] # Extract IDs\n",
    "n = len(unassigned_ids)\n",
    "\n",
    "print(f\"Found {n} unassigned students.\")\n",
    "\n",
    "g2 = 0 # Number of groups of 2\n",
    "g3 = 0 # Number of groups of 3\n",
    "possible = True\n",
    "\n",
    "if n >= 2:\n",
    "    # Calculate number of groups of 2 and 3, prioritising groups of 2\n",
    "    if n % 2 == 0:\n",
    "        # Even number - all groups of 2\n",
    "        g2 = n // 2\n",
    "        g3 = 0\n",
    "    else:\n",
    "        # Odd number - need at least one group of 3\n",
    "        if n >= 3:\n",
    "            g2 = (n - 3) // 2  # Form one group of 3, rest groups of 2\n",
    "            g3 = 1\n",
    "        else:\n",
    "            # Only 1 student left, cannot form any group\n",
    "            possible = False\n",
    "            print(f\"Cannot form groups with only {n} student(s). Need at least 2 students.\")\n",
    "\n",
    "    if possible:\n",
    "        print(f\"Creating {g2} groups of 2 and {g3} groups of 3.\")\n",
    "\n",
    "        # Shuffle the student IDs randomly\n",
    "        random.shuffle(unassigned_ids)\n",
    "\n",
    "        # Find the next available group ID\n",
    "        cursor.execute(\"SELECT MAX(group_id) FROM groups WHERE group_id IS NOT NULL\")\n",
    "        max_existing_group_id_result = cursor.fetchone()\n",
    "        # Handle case where there are no existing groups (max_existing_group_id_result[0] would be None)\n",
    "        max_existing_group_id = max_existing_group_id_result[0] if max_existing_group_id_result and max_existing_group_id_result[0] is not None else 0\n",
    "        next_group_id = max_existing_group_id + 1 \n",
    "        print(f\"Starting new groups from ID: {next_group_id}\")\n",
    "\n",
    "        current_student_index = 0\n",
    "        update_sql = \"UPDATE groups SET group_id = ? WHERE student_id = ?\"\n",
    "\n",
    "        # Assign groups of 2\n",
    "        print(\"\\nAssigning groups of 2...\")\n",
    "        for i in range(g2):\n",
    "            group_members_ids = unassigned_ids[current_student_index : current_student_index + 2]\n",
    "            if group_members_ids: # Ensure there are members to assign\n",
    "                print(f\"  Assigning group {next_group_id} to students (IDs): {group_members_ids}\")\n",
    "                for student_id in group_members_ids:\n",
    "                    cursor.execute(update_sql, (next_group_id, student_id))\n",
    "                next_group_id += 1\n",
    "                current_student_index += 2\n",
    "            else:\n",
    "                print(\"  Warning: Tried to assign an empty group of 2.\")\n",
    "\n",
    "        # Assign groups of 3\n",
    "        print(\"\\nAssigning groups of 3...\")\n",
    "        for i in range(g3):\n",
    "            group_members_ids = unassigned_ids[current_student_index : current_student_index + 3]\n",
    "            if group_members_ids: # Ensure there are members to assign\n",
    "                print(f\"  Assigning group {next_group_id} to students (IDs): {group_members_ids}\")\n",
    "                for student_id in group_members_ids:\n",
    "                    cursor.execute(update_sql, (next_group_id, student_id))\n",
    "                next_group_id += 1\n",
    "                current_student_index += 3\n",
    "            else:\n",
    "                 print(\"  Warning: Tried to assign an empty group of 3.\")\n",
    "\n",
    "        # Commit the updates for group assignments\n",
    "        connection.commit()\n",
    "        print(\"\\nFinished assigning groups.\")\n",
    "\n",
    "else:\n",
    "    print(\"Not enough unassigned students (need at least 2) to form new groups.\")\n",
    "\n",
    "# The final query cell will display the results.\n",
    "print(\"--- End of Group Assignment ---\\n\")"
   ]
  },
  {
   "cell_type": "code",
   "execution_count": 6,
   "metadata": {},
   "outputs": [
    {
     "data": {
      "application/vnd.microsoft.datawrangler.viewer.v0+json": {
       "columns": [
        {
         "name": "index",
         "rawType": "int64",
         "type": "integer"
        },
        {
         "name": "student_id",
         "rawType": "int64",
         "type": "integer"
        },
        {
         "name": "student_name",
         "rawType": "object",
         "type": "string"
        },
        {
         "name": "emory_id",
         "rawType": "int64",
         "type": "integer"
        },
        {
         "name": "group_id",
         "rawType": "int64",
         "type": "integer"
        }
       ],
       "ref": "d8a72492-d2a5-42be-b65a-dfa42334aca2",
       "rows": [
        [
         "0",
         "6",
         "Carl Yu",
         "2550364",
         "1"
        ],
        [
         "1",
         "2",
         "Kimberly Cardinale ",
         "2548934",
         "1"
        ],
        [
         "2",
         "1",
         "Ahshar Brown",
         "2575182",
         "2"
        ],
        [
         "3",
         "3",
         "Maisy Christians",
         "2550529",
         "2"
        ],
        [
         "4",
         "5",
         "Alan Na",
         "2588698",
         "3"
        ],
        [
         "5",
         "4",
         "Jennifer Gu",
         "2606428",
         "3"
        ]
       ],
       "shape": {
        "columns": 4,
        "rows": 6
       }
      },
      "text/html": [
       "<div>\n",
       "<style scoped>\n",
       "    .dataframe tbody tr th:only-of-type {\n",
       "        vertical-align: middle;\n",
       "    }\n",
       "\n",
       "    .dataframe tbody tr th {\n",
       "        vertical-align: top;\n",
       "    }\n",
       "\n",
       "    .dataframe thead th {\n",
       "        text-align: right;\n",
       "    }\n",
       "</style>\n",
       "<table border=\"1\" class=\"dataframe\">\n",
       "  <thead>\n",
       "    <tr style=\"text-align: right;\">\n",
       "      <th></th>\n",
       "      <th>student_id</th>\n",
       "      <th>student_name</th>\n",
       "      <th>emory_id</th>\n",
       "      <th>group_id</th>\n",
       "    </tr>\n",
       "  </thead>\n",
       "  <tbody>\n",
       "    <tr>\n",
       "      <th>0</th>\n",
       "      <td>6</td>\n",
       "      <td>Carl Yu</td>\n",
       "      <td>2550364</td>\n",
       "      <td>1</td>\n",
       "    </tr>\n",
       "    <tr>\n",
       "      <th>1</th>\n",
       "      <td>2</td>\n",
       "      <td>Kimberly Cardinale</td>\n",
       "      <td>2548934</td>\n",
       "      <td>1</td>\n",
       "    </tr>\n",
       "    <tr>\n",
       "      <th>2</th>\n",
       "      <td>1</td>\n",
       "      <td>Ahshar Brown</td>\n",
       "      <td>2575182</td>\n",
       "      <td>2</td>\n",
       "    </tr>\n",
       "    <tr>\n",
       "      <th>3</th>\n",
       "      <td>3</td>\n",
       "      <td>Maisy Christians</td>\n",
       "      <td>2550529</td>\n",
       "      <td>2</td>\n",
       "    </tr>\n",
       "    <tr>\n",
       "      <th>4</th>\n",
       "      <td>5</td>\n",
       "      <td>Alan Na</td>\n",
       "      <td>2588698</td>\n",
       "      <td>3</td>\n",
       "    </tr>\n",
       "    <tr>\n",
       "      <th>5</th>\n",
       "      <td>4</td>\n",
       "      <td>Jennifer Gu</td>\n",
       "      <td>2606428</td>\n",
       "      <td>3</td>\n",
       "    </tr>\n",
       "  </tbody>\n",
       "</table>\n",
       "</div>"
      ],
      "text/plain": [
       "   student_id         student_name  emory_id  group_id\n",
       "0           6              Carl Yu   2550364         1\n",
       "1           2  Kimberly Cardinale    2548934         1\n",
       "2           1         Ahshar Brown   2575182         2\n",
       "3           3     Maisy Christians   2550529         2\n",
       "4           5              Alan Na   2588698         3\n",
       "5           4          Jennifer Gu   2606428         3"
      ]
     },
     "execution_count": 6,
     "metadata": {},
     "output_type": "execute_result"
    }
   ],
   "source": [
    "# Query the table and display results using pandas\n",
    "query = '''\n",
    "SELECT * FROM groups\n",
    "ORDER BY group_id, student_name\n",
    "'''\n",
    "# Reconnect if connection was closed, or ensure it's open\n",
    "connection = sqlite3.connect(\"groups.db\")\n",
    "df = pd.read_sql_query(query, connection)\n",
    "\n",
    "# Close the connection\n",
    "connection.close()\n",
    "\n",
    "# Display the DataFrame\n",
    "df"
   ]
  }
 ],
 "metadata": {
  "kernelspec": {
   "display_name": "base",
   "language": "python",
   "name": "python3"
  },
  "language_info": {
   "codemirror_mode": {
    "name": "ipython",
    "version": 3
   },
   "file_extension": ".py",
   "mimetype": "text/x-python",
   "name": "python",
   "nbconvert_exporter": "python",
   "pygments_lexer": "ipython3",
   "version": "3.13.2"
  }
 },
 "nbformat": 4,
 "nbformat_minor": 4
}
