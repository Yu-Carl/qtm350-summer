{
 "cells": [
  {
   "cell_type": "markdown",
   "metadata": {},
   "source": [
    "# Assignment 7: Cloud Computing with AWS\n",
    "\n",
    "# Due date: Friday, June 13"
   ]
  },
  {
   "cell_type": "markdown",
   "metadata": {},
   "source": [
    "## Introduction\n",
    "\n",
    "In this assignment, you will apply the cloud computing skills you learned in the lecture. You will perform two main activities:\n",
    "1.  **Setup and Verification:** Set up a single AWS EC2 instance, connect to it, and verify its configuration.\n",
    "2.  **Remote Analysis:** Perform a complete data analysis workflow by generating data locally, uploading it to your EC2 instance for processing, calculating summary statistics, creating a plot, and downloading the results.\n",
    "\n",
    "**Important:** Remember to **terminate** your EC2 instance after you complete the assignment. The `.pem` key file is sensitive and should never be committed to a public repository."
   ]
  },
  {
   "cell_type": "markdown",
   "metadata": {},
   "source": [
    "## Activity: Remote Analysis of Road Accident Data"
   ]
  },
  {
   "cell_type": "markdown",
   "metadata": {},
   "source": [
    "### (a) Launch and Configure your EC2 Instance\n",
    "\n",
    "- Log into the AWS Console and launch a new EC2 instance with the following specifications:\n",
    "  - **Name:** `qtm350-assignment`\n",
    "  - **Application and OS Images:** `Ubuntu Server 24.04 LTS`\n",
    "  - **Instance type:** `t2.micro` (to be eligible for the Free Tier)\n",
    "  - **Key pair:** Create a new key pair named `qtm350_key` and download the `.pem` file.\n",
    "  - **Network settings:** Allow SSH traffic from your IP address.\n",
    "  - **Storage:** Use the default 8GB."
   ]
  },
  {
   "cell_type": "markdown",
   "metadata": {},
   "source": [
    "### (b) Generate Data Locally\n",
    "\n",
    "- On your **local machine**, create a Python script named `generate_accidents.py` with the following code. This script will create a CSV file with fictitious data on road accidents."
   ]
  },
  {
   "cell_type": "code",
   "execution_count": null,
   "metadata": {},
   "outputs": [],
   "source": [
    "import pandas as pd\n",
    "import numpy as np\n",
    "import datetime\n",
    "\n",
    "# Set seed for reproducibility\n",
    "np.random.seed(42)\n",
    "\n",
    "# Generate dates for a full year\n",
    "dates = pd.to_datetime(pd.date_range(start='2023-01-01', periods=365, freq='D'))\n",
    "\n",
    "# Generate number of accidents, with higher probability on weekends\n",
    "day_of_week_effect = [1.0, 1.0, 1.1, 1.2, 1.5, 1.8, 1.6] # Mon-Sun\n",
    "accidents = []\n",
    "for date in dates:\n",
    "    base_accidents = np.random.poisson(lam=10)\n",
    "    num_accidents = int(base_accidents * day_of_week_effect[date.dayofweek])\n",
    "    accidents.append(num_accidents)\n",
    "\n",
    "# Create DataFrame\n",
    "df = pd.DataFrame({\n",
    "    'date': dates.date,\n",
    "    'day_of_week': dates.day_name(),\n",
    "    'number_of_accidents': accidents\n",
    "})\n",
    "\n",
    "# Save to CSV\n",
    "df.to_csv('uk_road_accidents.csv', index=False)\n",
    "print(\"uk_road_accidents.csv created successfully.\")"
   ]
  },
  {
   "cell_type": "markdown",
   "metadata": {},
   "source": [
    "- Run the script from your local terminal: `python3 generate_accidents.py`."
   ]
  },
  {
   "cell_type": "markdown",
   "metadata": {},
   "source": [
    "### (c) Prepare Analysis Script\n",
    "\n",
    "- On your **local machine**, create another Python script named `analyse_accidents.py`. This script will read the data, calculate statistics, and generate a bar chart."
   ]
  },
  {
   "cell_type": "code",
   "execution_count": null,
   "metadata": {},
   "outputs": [],
   "source": [
    "import pandas as pd\n",
    "import matplotlib.pyplot as plt\n",
    "import seaborn as sns\n",
    "\n",
    "# Read the data\n",
    "df = pd.read_csv('uk_road_accidents.csv')\n",
    "\n",
    "# --- Analysis ---\n",
    "# Calculate average accidents per day of the week\n",
    "avg_accidents_by_day = df.groupby('day_of_week')['number_of_accidents'].mean().round(2)\n",
    "day_order = ['Monday', 'Tuesday', 'Wednesday', 'Thursday', 'Friday', 'Saturday', 'Sunday']\n",
    "avg_accidents_by_day = avg_accidents_by_day.reindex(day_order)\n",
    "\n",
    "most_accidents_day = avg_accidents_by_day.idxmax()\n",
    "highest_avg = avg_accidents_by_day.max()\n",
    "\n",
    "# --- Save Summary Statistics ---\n",
    "with open('summary_stats.txt', 'w') as f:\n",
    "    f.write('Road Accident Data Summary\\n')\n",
    "    f.write('==========================\\n')\n",
    "    f.write(f'Day with most accidents on average: {most_accidents_day}\\n')\n",
    "    f.write(f'Highest average number of accidents: {highest_avg}\\n')\n",
    "print(\"summary_stats.txt created successfully.\")\n",
    "\n",
    "# --- Create Visualisation ---\n",
    "plt.figure(figsize=(10, 6))\n",
    "sns.barplot(x=avg_accidents_by_day.index, y=avg_accidents_by_day.values)\n",
    "plt.title('Average Number of Road Accidents by Day of the Week', fontsize=16)\n",
    "plt.xlabel('Day of the Week')\n",
    "plt.ylabel('Average Number of Accidents')\n",
    "plt.xticks(rotation=45)\n",
    "plt.tight_layout()\n",
    "plt.savefig('accident_plot.png')\n",
    "print(\"Plot saved to accident_plot.png\")"
   ]
  },
  {
   "cell_type": "markdown",
   "metadata": {},
   "source": [
    "### (d) Execute Full Workflow on EC2\n",
    "\n",
    "- Connect to your `qtm350-assignment` instance via SSH.\n",
    "- **On the instance**, install the required Python libraries:\n",
    "  ```sh\n",
    "  sudo apt update\n",
    "  sudo apt install python3-pandas python3-matplotlib python3-seaborn\n",
    "  ```\n",
    "- **On the instance**, run `lsb_release -a > os_info.txt` to generate the OS info file.\n",
    "- From your **local** terminal, use `scp` to upload both `uk_road_accidents.csv` and `analyze_accidents.py` to your EC2 instance's home directory.\n",
    "- Back on your **EC2 instance**, run the analysis script: `python3 analyse_accidents.py`.\n",
    "- From your **local** terminal, use `scp` to download the three generated files: `os_info.txt`, `summary_stats.txt`, and `accident_plot.png`.\n",
    "- **Important:** Once you have all files, **terminate** your instance from the AWS Console."
   ]
  },
  {
   "cell_type": "markdown",
   "metadata": {},
   "source": [
    "## Submission\n",
    "\n",
    "To complete the assignment, commit and push the following three files to Canvas or a GitHub repository (please share the URL on Canvas, too):\n",
    "1.  `os_info.txt`\n",
    "2.  `summary_stats.txt`\n",
    "3.  `accident_plot.png`"
   ]
  }
 ],
 "metadata": {
  "kernelspec": {
   "display_name": "base",
   "language": "python",
   "name": "python3"
  },
  "language_info": {
   "codemirror_mode": {
    "name": "ipython",
    "version": 3
   },
   "file_extension": ".py",
   "mimetype": "text/x-python",
   "name": "python",
   "nbconvert_exporter": "python",
   "pygments_lexer": "ipython3",
   "version": "3.13.2"
  }
 },
 "nbformat": 4,
 "nbformat_minor": 4
}
