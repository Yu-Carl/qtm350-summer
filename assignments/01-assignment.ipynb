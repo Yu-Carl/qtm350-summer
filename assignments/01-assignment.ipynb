{
 "cells": [
  {
   "cell_type": "markdown",
   "metadata": {},
   "source": [
    "# QTM 350 - Data Science Computing\n",
    "\n",
    "## Assignment 01 - Computational Literacy\n",
    "### Due 29 January 2025\n",
    "\n",
    "### Instructions\n",
    "\n",
    "This assignment evaluates your understanding of topics covered in the first two weeks of class, including binary and hexadecimal number systems, ASCII encoding, and programming language fundamentals.\n",
    "\n",
    "You must complete this assignment individually. While you may use available resources such as notes, books, and AI tools, you are expected to submit original work. Please acknowledge all resources used, including input from classmates and AI. If you are unsure about permissible resources or proper acknowledgement, please consult the instructor.\n",
    "\n",
    "Present your solutions clearly and systematically, showing your problem-solving process. Please ensure that any code is well-commented.\n",
    "\n",
    "### Submission\n",
    "\n",
    "Please submit your solutions as either a single Jupyter notebook or a PDF file. Follow the instructions provided in each section carefully. Submit your completed assignment to Canvas or via email (danilo.freire@emory.edu) by Wednesday, September 11, at 11:59 PM."
   ]
  },
  {
   "cell_type": "markdown",
   "metadata": {},
   "source": [
    "### Question 01\n",
    "\n",
    "Convert the decimal number 53 to binary. Show your work."
   ]
  },
  {
   "cell_type": "markdown",
   "metadata": {},
   "source": [
    "53 = 32 + 16 + 4 + 1 = 110101"
   ]
  },
  {
   "cell_type": "markdown",
   "metadata": {},
   "source": [
    "### Question 02\n",
    "\n",
    "Convert the binary number 1011001 to decimal. Show your work."
   ]
  },
  {
   "cell_type": "markdown",
   "metadata": {},
   "source": [
    "1 + 8 + 16 + 64 = 89"
   ]
  },
  {
   "cell_type": "markdown",
   "metadata": {},
   "source": [
    "### Question 03\n",
    "\n",
    "What is the hexadecimal representation of the RGB colour (128, 64, 255)? Explain your answer."
   ]
  },
  {
   "cell_type": "markdown",
   "metadata": {},
   "source": [
    "128/16 = 8; 80\n",
    "\n",
    "64/16 = 4; 40\n",
    "\n",
    "255/16 = 15 r15; FF\n",
    "\n",
    "\n",
    "\n",
    "8040FF"
   ]
  },
  {
   "cell_type": "markdown",
   "metadata": {},
   "source": [
    "### Question 04\n",
    "\n",
    "Convert the hexadecimal colour #2A9F3B to its RGB components. Show your steps."
   ]
  },
  {
   "cell_type": "markdown",
   "metadata": {},
   "source": [
    "2A = 32 + 10 = 42\n",
    "\n",
    "9F = 9(16) + 15 = 159\n",
    "\n",
    "3B = 48 + 11 = 59\n",
    "\n",
    "\n",
    "(42, 159, 59)"
   ]
  },
  {
   "cell_type": "markdown",
   "metadata": {},
   "source": [
    "### Question 05\n",
    "\n",
    "Using the coin representation system described in the lecture (c[quarters][dimes][nickels][pennies]), convert $1.37 to coin representation. Explain your reasoning."
   ]
  },
  {
   "cell_type": "markdown",
   "metadata": {},
   "source": [
    "1.37 = 5(25) + 1(10) + 0(5) + 2(1)\n",
    "\n",
    "c5102; 5 quarters (1.25), 1 dime (0.10), and 2 pennies (0.02) add up to $1.37."
   ]
  },
  {
   "cell_type": "markdown",
   "metadata": {},
   "source": [
    "### Question 06\n",
    "\n",
    "What is the Unicode representation of the word \"Emory\"? Use the Unicode table provided in the lecture to find out."
   ]
  },
  {
   "cell_type": "markdown",
   "metadata": {},
   "source": [
    "0045 006D 006F 0072 0079"
   ]
  },
  {
   "cell_type": "markdown",
   "metadata": {},
   "source": [
    "### Question 07\n",
    "\n",
    "Explain the difference between ASCII and Unicode. Why was Unicode developed, and what advantages does it offer over ASCII?"
   ]
  },
  {
   "cell_type": "markdown",
   "metadata": {},
   "source": [
    "ASCII was first developed before Unicode, and was used to represent text through binary. However, because of its limitations in size (just being up to 8-bit or 256 unique characters), another system was needed to also encompass characters that existed outside of the English alphabet (e.g., other scripts, accented letters). Therefore, Unicode was developed to address this limitation represent these characters as well as other symbols. Additionally, the first 128 characters in Unicode are the same as those in ASCII, which allows for backwards compatibility."
   ]
  },
  {
   "cell_type": "markdown",
   "metadata": {},
   "source": [
    "### Question 08\n",
    "\n",
    "Describe the Von Neumann architecture and its significance in modern computing. What is the Von Neumann bottleneck, and how does it affect computer performance?"
   ]
  },
  {
   "cell_type": "markdown",
   "metadata": {},
   "source": [
    "The Von Neumann architecture follows a linear path from slow storage (hard disk), then to faster storage (RAM), and then to the CPU. Compared to other computers at the time, this architecture separated the programs from a machine, in which they were now not inherently a part of the computer itself. The Von Neumann bottleneck is where the processing speed of the CPU exceeds the rate at which the data itself can be sent to the CPU, as data is sent sequentially through a single bus. Therefore, the CPU often waits for data, resulting in downtime and thus suboptimal performance—computer performance could be increased if transfer speeds to the CPU were equal to the rate at which the CPU can process the data, thus eliminating the bottleneck."
   ]
  },
  {
   "cell_type": "markdown",
   "metadata": {},
   "source": [
    "### Question 09\n",
    "\n",
    "Compare and contrast low-level and high-level programming languages. Give two examples of each and explain when you might choose to use one over the other."
   ]
  },
  {
   "cell_type": "markdown",
   "metadata": {},
   "source": [
    "Low-level languages are closer to how the computer reads, such as Assembly or hexidecimal code. High-level languages are more easily interpretable by humans as they use human readable syntax, such as R or Python. High-level languages are less performant than low-level but can be more widely implemented and are easier to read, write, and debug. Low-level languages are fast and memory efficient because their capacity to control the memory and processor, but thus have more specific applications and cannot be as widely implemented."
   ]
  },
  {
   "cell_type": "markdown",
   "metadata": {},
   "source": [
    "### Question 10\n",
    "\n",
    "Discuss the concept of abstraction in computer science, using the representation of images in computers as an example. How does this abstraction process impact data analysis and predictive modelling in image-related tasks?"
   ]
  },
  {
   "cell_type": "markdown",
   "metadata": {},
   "source": [
    "Abstraction is translating information that is readily interpretable to humans into information that is more readable for computers, such as 0s and 1s. In the context of an image, each pixel of the image is represented as a unique color, which can be represented as a combination of red, green, and blue, which can then be represented as hexadecimal digits. In data analysis and predictive modeling, image-related tasks require more levels to abstraction and thus would be more computationally heavy compared to solely text-related tasks."
   ]
  }
 ],
 "metadata": {
  "kernelspec": {
   "display_name": "base",
   "language": "python",
   "name": "python3"
  },
  "language_info": {
   "codemirror_mode": {
    "name": "ipython",
    "version": 3
   },
   "file_extension": ".py",
   "mimetype": "text/x-python",
   "name": "python",
   "nbconvert_exporter": "python",
   "pygments_lexer": "ipython3",
   "version": "3.12.2"
  }
 },
 "nbformat": 4,
 "nbformat_minor": 2
}
